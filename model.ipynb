{
 "cells": [
  {
   "cell_type": "code",
   "execution_count": 3,
   "metadata": {},
   "outputs": [],
   "source": [
    "import pandas as pd\n",
    "import numpy as np"
   ]
  },
  {
   "cell_type": "code",
   "execution_count": 4,
   "metadata": {},
   "outputs": [
    {
     "name": "stdout",
     "output_type": "stream",
     "text": [
      "       Item_Id        Date  State_of_Country  Market_Category  \\\n",
      "201     IT_438  2007-07-11                 0              250   \n",
      "215     IT_484  2007-07-12                 0              250   \n",
      "266     IT_642  2007-07-14                 0              250   \n",
      "317     IT_812  2007-07-16                 0              250   \n",
      "372    IT_1006  2007-07-19                 0              250   \n",
      "564    IT_1860  2007-07-30                 0              250   \n",
      "571    IT_1896  2007-07-31                 0              250   \n",
      "598    IT_2013  2007-08-02                 0              250   \n",
      "607    IT_2074  2007-08-03                 0              250   \n",
      "991    IT_3936  2007-08-31                 0              250   \n",
      "1176   IT_4940  2007-09-15                 0              250   \n",
      "2312  IT_10662  2008-01-22                 0              250   \n",
      "3567  IT_19093  2008-04-07                 0              250   \n",
      "3939  IT_22543  2008-05-05                 0              250   \n",
      "7037  IT_54512  2009-04-27                 0              250   \n",
      "9660  IT_92629  2010-05-17                 0              250   \n",
      "9666  IT_92768  2010-05-18                 0              250   \n",
      "\n",
      "      Product_Category  Grade  Demand  Low_Cap_Price  High_Cap_Price  \n",
      "201                  0      2     0.6           2461            6447  \n",
      "215                  0      2     0.1           4648            5939  \n",
      "266                  0      2     0.0           4760            6580  \n",
      "317                  0      2     0.0           4034            5884  \n",
      "372                  0      2     0.0           4273            5901  \n",
      "564                  0      0     0.1           3817            6206  \n",
      "571                  0      0     0.1           1746            5803  \n",
      "598                  0      0     0.1           3801            6159  \n",
      "607                  0      0     0.1           2147            5865  \n",
      "991                  0      0     0.1           5014            6604  \n",
      "1176                 0      0     0.1           5040            7153  \n",
      "2312                 0      2     0.0           1508            2131  \n",
      "3567                 0      0     0.3           1556            3496  \n",
      "3939                 0      0     0.5            878            1838  \n",
      "7037                 0      0     0.8           1177            4201  \n",
      "9660                 0      0     2.0           4809            6421  \n",
      "9666                 0      0     0.2           5130            6621  \n",
      "                  State_of_Country  Market_Category  Product_Category  \\\n",
      "State_of_Country          1.000000         0.084255          0.378588   \n",
      "Market_Category           0.084255         1.000000          0.107470   \n",
      "Product_Category          0.378588         0.107470          1.000000   \n",
      "Grade                    -0.145760        -0.188476         -0.085950   \n",
      "Demand                   -0.000773        -0.150345          0.113734   \n",
      "High_Cap_Price           -0.026268         0.003358         -0.011179   \n",
      "\n",
      "                     Grade    Demand  High_Cap_Price  \n",
      "State_of_Country -0.145760 -0.000773       -0.026268  \n",
      "Market_Category  -0.188476 -0.150345        0.003358  \n",
      "Product_Category -0.085950  0.113734       -0.011179  \n",
      "Grade             1.000000  0.143434       -0.006354  \n",
      "Demand            0.143434  1.000000       -0.002012  \n",
      "High_Cap_Price   -0.006354 -0.002012        1.000000  \n"
     ]
    }
   ],
   "source": [
    "data_test = pd.read_csv('Test.csv')\n",
    "data_train = pd.read_csv('Train.csv')\n",
    "print(data_train[data_train['Market_Category'] ==250].head(35))\n",
    "print(data_test.corr(method ='pearson'))"
   ]
  },
  {
   "cell_type": "code",
   "execution_count": 5,
   "metadata": {},
   "outputs": [
    {
     "name": "stdout",
     "output_type": "stream",
     "text": [
      "       State_of_Country  Market_Category  Product_Category        Grade  \\\n",
      "count       9798.000000      9798.000000       9798.000000  9798.000000   \n",
      "mean          14.278730       198.414064          2.492958     0.652072   \n",
      "std            8.760964       169.767862          4.751807     1.032439   \n",
      "min            0.000000         0.000000          0.000000     0.000000   \n",
      "25%            3.000000        55.000000          0.000000     0.000000   \n",
      "50%           20.000000       129.000000          0.000000     0.000000   \n",
      "75%           21.000000       389.000000          1.000000     2.000000   \n",
      "max           23.000000       471.000000         17.000000     3.000000   \n",
      "\n",
      "            Demand  Low_Cap_Price  High_Cap_Price  \n",
      "count  9798.000000    9798.000000     9798.000000  \n",
      "mean     51.760033    3500.273525     6344.402225  \n",
      "std     355.976788    2188.046803     3614.126921  \n",
      "min       0.000000       1.000000      163.000000  \n",
      "25%       0.500000    1863.250000     3878.250000  \n",
      "50%       2.000000    3124.000000     5552.000000  \n",
      "75%      10.000000    4667.500000     7992.750000  \n",
      "max    9252.000000   17580.000000    27954.000000  \n",
      "                  State_of_Country    Demand  High_Cap_Price     month  \\\n",
      "State_of_Country          1.000000  0.039300        0.030709  0.114371   \n",
      "Demand                    0.039300  1.000000       -0.036839 -0.061164   \n",
      "High_Cap_Price            0.030709 -0.036839        1.000000  0.157205   \n",
      "month                     0.114371 -0.061164        0.157205  1.000000   \n",
      "day                      -0.005010  0.003074       -0.017902 -0.021879   \n",
      "days_since_1970          -0.130163  0.036888        0.218927 -0.172503   \n",
      "\n",
      "                       day  days_since_1970  \n",
      "State_of_Country -0.005010        -0.130163  \n",
      "Demand            0.003074         0.036888  \n",
      "High_Cap_Price   -0.017902         0.218927  \n",
      "month            -0.021879        -0.172503  \n",
      "day               1.000000         0.002042  \n",
      "days_since_1970   0.002042         1.000000  \n"
     ]
    }
   ],
   "source": [
    "from sklearn.model_selection import train_test_split\n",
    "from sklearn.preprocessing import LabelEncoder\n",
    "from sklearn.impute import SimpleImputer\n",
    "import datetime\n",
    "\n",
    "# Remove outliers of dataset(Impute values)\n",
    "outlier_demmand = np.where(data_train['Demand'] >= 15000,np.nan,data_train['Demand'])\n",
    "outlier_high_cap_price = np.where(data_train['High_Cap_Price'] >= 40000,np.nan,data_train['High_Cap_Price'])\n",
    "outlier_low_cap_price = np.where(data_train['Low_Cap_Price'] <= 50,150,data_train['Low_Cap_Price'])\n",
    "imputer_outliers = SimpleImputer(missing_values=np.nan, strategy='median')\n",
    "data_train['Demand'] = imputer_outliers.fit_transform(outlier_demmand.reshape(-1, 1))\n",
    "data_train['High_Cap_Price'] = imputer_outliers.fit_transform(outlier_high_cap_price.reshape(-1, 1))\n",
    "\n",
    "y = data_train['Low_Cap_Price']\n",
    "features = ['State_of_Country','Demand','High_Cap_Price']\n",
    "x = data_train[features]\n",
    "print(data_train.describe())\n",
    "\n",
    "month = []\n",
    "year = []\n",
    "day = []\n",
    "for date in data_train['Date']:\n",
    "    date_time = datetime.datetime.strptime(date,\"%Y-%m-%d\")\n",
    "    month.append(date_time.month)\n",
    "    year.append(date_time.year)\n",
    "    day.append(date_time.day)\n",
    "#\"\"\"\n",
    "date_days = []\n",
    "for date in data_train['Date']:\n",
    "    date_days.append((datetime.datetime.strptime(date,\"%Y-%m-%d\") - datetime.datetime(1970,1,1)).days + 1)\n",
    "#\"\"\"\n",
    "    \n",
    "date = {'month':month, 'day':day, 'days_since_1970':date_days}\n",
    "#date = {'year':year, 'month':month, 'day':day}\n",
    "#date = {'days_since_1970':date_days, 'importance_product':importance_product}\n",
    "df_date = pd.DataFrame(date)\n",
    "\n",
    "x_final = pd.concat([x, df_date], axis=1)\n",
    "# days_since_1970 * High_Cap_Price\n",
    "\"\"\"\n",
    "importance_product = []\n",
    "for i in range(len(x_final['Market_Category'])):\n",
    "    #importance_product.append(max(data_train['Demand'][i] * data_train['Market_Category'][i],data_train['Market_Category'][i]))\n",
    "    importance_product.append(max(x_final['High_Cap_Price'][i]*x_final['Market_Category'][i],x_final['High_Cap_Price'][i]))\n",
    "\n",
    "correlations = {'days_high_price':importance_product}\n",
    "df_correlations = pd.DataFrame(correlations)\n",
    "x_final_new = pd.concat([x_final, df_correlations], axis=1)\n",
    "\"\"\"\n",
    "\n",
    "print(x_final.corr())\n",
    "x_train, x_test, y_train, y_test = train_test_split(x_final,y, test_size=0.15,random_state=1)"
   ]
  },
  {
   "cell_type": "code",
   "execution_count": 294,
   "metadata": {},
   "outputs": [
    {
     "name": "stdout",
     "output_type": "stream",
     "text": [
      "Mean Absolute Error: 525.6004406448399\n",
      "Mean Squared Log Error: 99.89179767651416\n",
      "Root Mean Squared Error: 918.2256154139117\n"
     ]
    }
   ],
   "source": [
    "from sklearn.ensemble import RandomForestRegressor\n",
    "#from sklearn.ensemble import ExtraTreesRegressor\n",
    "from sklearn import metrics\n",
    "from sklearn.model_selection import RandomizedSearchCV\n",
    "#model = ExtraTreesRegressor(n_estimators=225, random_state=1)\n",
    "#model = RandomForestRegressor(n_estimators = 100, max_depth=50, random_state = 1)\n",
    "model = RandomForestRegressor(n_estimators = 260, min_samples_split=2, min_samples_leaf=2,\n",
    "                             max_depth=60, random_state = 1)\n",
    "#model = RandomForestRegressor(n_estimators = 230, min_samples_split=5, min_samples_leaf=1,max_features='auto',\n",
    "                             #max_depth=None, bootstrap=True, random_state = 1)\n",
    "model.fit(x_train,y_train)\n",
    "\"\"\"\n",
    "distributions = {'max_depth': [30, 40, 50, 60, 70, 80],\n",
    "               'min_samples_leaf': [1, 2, 4],\n",
    "               'min_samples_split': [2, 5, 10],\n",
    "               'n_estimators': [220, 240, 250, 260, 280]}\n",
    "clf = RandomizedSearchCV(model, distributions, random_state=0)\n",
    "search = clf.fit(x_final, y)\n",
    "print(search.best_params_)\n",
    "\"\"\"\n",
    "y_pred = model.predict(x_test)\n",
    "\n",
    "print('Mean Absolute Error:', metrics.mean_absolute_error(y_test, y_pred))\n",
    "print('Mean Squared Log Error:', max(0, 100 - metrics.mean_squared_log_error(y_test, y_pred)))\n",
    "print('Root Mean Squared Error:', np.sqrt(metrics.mean_squared_error(y_test, y_pred)))"
   ]
  },
  {
   "cell_type": "code",
   "execution_count": 295,
   "metadata": {},
   "outputs": [
    {
     "data": {
      "text/plain": [
       "<matplotlib.collections.PathCollection at 0x7f0fa6eae4e0>"
      ]
     },
     "execution_count": 295,
     "metadata": {},
     "output_type": "execute_result"
    },
    {
     "data": {
      "image/png": "[encoded data removed]",
      "text/plain": [
       "<Figure size 432x288 with 1 Axes>"
      ]
     },
     "metadata": {
      "needs_background": "light"
     },
     "output_type": "display_data"
    }
   ],
   "source": [
    "import matplotlib.pyplot as plt\n",
    "\n",
    "plt.title('Lowest Price')\n",
    "plt.xlabel('Feature')\n",
    "plt.ylabel('Low_Cap_Price')\n",
    "plt.scatter(x_final['Demand'],x_final['High_Cap_Price'], color='blue')"
   ]
  },
  {
   "cell_type": "code",
   "execution_count": 296,
   "metadata": {},
   "outputs": [
    {
     "data": {
      "text/plain": [
       "<matplotlib.collections.PathCollection at 0x7f0fa6e51dd8>"
      ]
     },
     "execution_count": 296,
     "metadata": {},
     "output_type": "execute_result"
    },
    {
     "data": {
      "image/png": "[encoded data removed]",
      "text/plain": [
       "<Figure size 432x288 with 1 Axes>"
      ]
     },
     "metadata": {
      "needs_background": "light"
     },
     "output_type": "display_data"
    }
   ],
   "source": [
    "plt.title('Lowest Price')\n",
    "plt.xlabel('Feature')\n",
    "plt.ylabel('Low_Cap_Price')\n",
    "plt.scatter(x_final['days_since_1970'],y, color='blue')\n",
    "plt.scatter(x_test['days_since_1970'],y_pred, color='red')"
   ]
  },
  {
   "cell_type": "code",
   "execution_count": 297,
   "metadata": {},
   "outputs": [
    {
     "name": "stdout",
     "output_type": "stream",
     "text": [
      "Mean Absolute Error: 3761.9315330135023\n",
      "Mean Squared Log Error: 99.12551372542556\n",
      "Root Mean Squared Error: 4582.484730245889\n",
      "     Item_Id  Low_Cap_Price\n",
      "0  IT_265079    2875.062578\n",
      "1  IT_265087    3297.781223\n",
      "2  IT_265107    6800.657759\n",
      "3  IT_265139    7852.045479\n",
      "4  IT_265142    2297.543816\n",
      "5  IT_265144    1473.336954\n",
      "6  IT_265148    2605.816392\n",
      "7  IT_265156    5528.592129\n",
      "8  IT_265162    5607.538150\n",
      "9  IT_265170    4667.377998\n"
     ]
    }
   ],
   "source": [
    "\n",
    "month = []\n",
    "year = []\n",
    "day = []\n",
    "for date in data_test['Date']:\n",
    "    date_time = datetime.datetime.strptime(date,\"%Y-%m-%d\")\n",
    "    month.append(date_time.month)\n",
    "    year.append(date_time.year)\n",
    "    day.append(date_time.day)\n",
    "\n",
    "#\"\"\"\n",
    "date_days = []\n",
    "for date in data_test['Date']:\n",
    "    date_days.append((datetime.datetime.strptime(date,\"%Y-%m-%d\") - datetime.datetime(1970,1,1)).days + 1)\n",
    "#\"\"\"\n",
    "\n",
    "date = {'month':month, 'day':day, 'days_since_1970':date_days}\n",
    "#date = {'year':year, 'month':month, 'day':day}\n",
    "#date = {'days_since_1970':date_days, 'importance_product':importance_product}\n",
    "df_date = pd.DataFrame(date)\n",
    "\n",
    "x_test_final = pd.concat([data_test[features], df_date], axis=1)\n",
    "# days_since_1970 * High_Cap_Price\n",
    "\"\"\"\n",
    "importance_product = []\n",
    "for i in range(len(x_test_final['High_Cap_Price'])):\n",
    "    #importance_product.append(max(data_train['Demand'][i] * data_train['Market_Category'][i],data_train['Market_Category'][i]))\n",
    "    importance_product.append(max(x_test_final['High_Cap_Price'][i]*x_test_final['Market_Category'][i],x_test_final['High_Cap_Price'][i]))\n",
    "\n",
    "correlations = {'days_high_price':importance_product}\n",
    "df_correlations = pd.DataFrame(correlations)\n",
    "x_final_new = pd.concat([x_test_final, df_correlations], axis=1)\n",
    "\"\"\"\n",
    "test_preds = model.predict(x_test_final)\n",
    "\n",
    "result = pd.read_csv('sample_submission.csv')\n",
    "\n",
    "print('Mean Absolute Error:', metrics.mean_absolute_error(result['Low_Cap_Price'], test_preds))\n",
    "print('Mean Squared Log Error:', max(0, 100 - metrics.mean_squared_log_error(result['Low_Cap_Price'], test_preds)))\n",
    "print('Root Mean Squared Error:', np.sqrt(metrics.mean_squared_error(result['Low_Cap_Price'], test_preds)))\n",
    "\n",
    "\n",
    "output = pd.DataFrame({'Item_Id':data_test['Item_Id'],\n",
    "                      'Low_Cap_Price':test_preds})\n",
    "print(output.head(10))"
   ]
  },
  {
   "cell_type": "code",
   "execution_count": 298,
   "metadata": {},
   "outputs": [],
   "source": [
    "output.to_csv('RFR_submission.csv', index=False)"
   ]
  }
 ],
 "metadata": {
  "kernelspec": {
   "display_name": "Python 3",
   "language": "python",
   "name": "python3"
  },
  "language_info": {
   "codemirror_mode": {
    "name": "ipython",
    "version": 3
   },
   "file_extension": ".py",
   "mimetype": "text/x-python",
   "name": "python",
   "nbconvert_exporter": "python",
   "pygments_lexer": "ipython3",
   "version": "3.6.9"
  }
 },
 "nbformat": 4,
 "nbformat_minor": 4
}